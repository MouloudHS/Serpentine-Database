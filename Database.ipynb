{
 "cells": [
  {
   "cell_type": "markdown",
   "id": "d97d9a2d-36b1-4c9a-a93c-3c8481d8e2ca",
   "metadata": {},
   "source": [
    "# Serpentine Database"
   ]
  },
  {
   "cell_type": "code",
   "execution_count": null,
   "id": "ab26e5cf-b95a-4341-96e9-4dde1890e2d6",
   "metadata": {},
   "outputs": [],
   "source": [
    "import glob, json"
   ]
  },
  {
   "cell_type": "code",
   "execution_count": null,
   "id": "984be02d-48ef-4779-9635-ebaac5520139",
   "metadata": {},
   "outputs": [],
   "source": [
    "# Import Databases\n",
    "path = \"/home/mtp107/WORK/DATA/Minerals_DATABASE/Serpentine-Database/\"\n",
    "\n",
    "lizardite_1 = path + \"Lizardite/Lizardite_1/\"\n",
    "lizardite_2 = path + \"Lizardite/Lizardite_2/\" \n",
    "\n",
    "cronstedite_1 = path + \"Cronstedtite/Crons_1/\"\n",
    "cronstedite_2 = path + \"Cronstedtite/Crons_2/\"\n",
    "cronstedite_3 = path + \"Cronstedtite/Crons_3/\"\n",
    "cronstedite_4 = path + \"Cronstedtite/Crons_4/\"\n",
    "\n",
    "chrysotile_1 = path + \"Chrysotile/Chryso_1/\"\n",
    "chrysotile_2 = path + \"Chrysotile/Chryso_2/\"\n",
    "chrysotile_3 = path + \"Chrysotile/Chryso_3/\"\n",
    "\n",
    "antigorite = path + \"Antigorite\"\n",
    "\n",
    "minerals = [\"Lizardite\", \"Cronstedite\", \"Chrysotile\", \"Antigorite\"]\n",
    "\n",
    "num_comp = [{\"L1\":0, \"L2\":0}, \n",
    "            {\"CR1\":0, \"CR2\":0, \"CR3\":0, \"CR4\":0}, \n",
    "            {\"CH1\":0, \"CH2\":0, \"CH3\":0}, {\"A\":0}]"
   ]
  },
  {
   "cell_type": "code",
   "execution_count": null,
   "id": "bd805b22-5113-4015-bf07-968d9a7de5ee",
   "metadata": {},
   "outputs": [],
   "source": [
    "serpentine_database = dict(zip(minerals, num_comp))\n",
    "serpentine_database"
   ]
  },
  {
   "cell_type": "code",
   "execution_count": null,
   "id": "f85f4d45-ce81-4673-87a3-8e159e6d56da",
   "metadata": {},
   "outputs": [],
   "source": [
    "fs = [f for f in glob.glob(antigorite + \"/*.csv\", recursive=True)]\n",
    "tx = [f for f in glob.glob(antigorite + \"/*.txt\", recursive=True)]\n",
    "fs.sort()\n",
    "\n",
    "keys = [\"Structure\", \"Space Group\", \"Chemistry\", \"XRD\", \"hkl\"]\n",
    "values = [\"Monoclinic\", \"P 1 m 1\", \"Mg2.823 (Si2 O5) (O H)3.639\", fs[1], fs[0]]\n",
    "dicos = dict(zip(keys, values))\n",
    "\n",
    "serpentine_database[\"Antigorite\"][\"A\"] = dicos"
   ]
  },
  {
   "cell_type": "code",
   "execution_count": null,
   "id": "6689920e-b305-4978-8011-67e2cbebd1f2",
   "metadata": {},
   "outputs": [],
   "source": [
    "serpentine_database"
   ]
  },
  {
   "cell_type": "code",
   "execution_count": null,
   "id": "608b8256-5cf5-439b-b539-bb6196d8f3a6",
   "metadata": {},
   "outputs": [],
   "source": [
    "with open('Serpentine_Database.json', 'w') as SD:\n",
    "     SD.write(json.dumps(serpentine_database))"
   ]
  }
 ],
 "metadata": {
  "kernelspec": {
   "display_name": "Python 3 (ipykernel)",
   "language": "python",
   "name": "python3"
  },
  "language_info": {
   "codemirror_mode": {
    "name": "ipython",
    "version": 3
   },
   "file_extension": ".py",
   "mimetype": "text/x-python",
   "name": "python",
   "nbconvert_exporter": "python",
   "pygments_lexer": "ipython3",
   "version": "3.7.9"
  }
 },
 "nbformat": 4,
 "nbformat_minor": 5
}
